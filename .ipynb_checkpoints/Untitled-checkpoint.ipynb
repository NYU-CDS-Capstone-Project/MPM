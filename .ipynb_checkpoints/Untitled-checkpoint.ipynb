{
 "cells": [
  {
   "cell_type": "code",
   "execution_count": 1,
   "metadata": {
    "collapsed": true
   },
   "outputs": [],
   "source": [
    "import numpy as np\n",
    "import matplotlib.pyplot as plt\n",
    "from scipy.stats import norm\n",
    "import sys\n",
    "rng = np.random.RandomState(0)\n",
    "%matplotlib inline\n",
    "from sys import exit"
   ]
  },
  {
   "cell_type": "code",
   "execution_count": 2,
   "metadata": {
    "collapsed": true
   },
   "outputs": [],
   "source": [
    "def safe_ln(x, minval=0.0001):\n",
    "    return np.log(x.clip(min=minval))\n",
    "\n",
    "def black_box(n_samples, theta=1.0, phi=0.2, random_state=None):\n",
    "    \"\"\"\n",
    "    Black box for which we know the distribution follows normal\n",
    "    with mean theta and std phi.\n",
    "    \"\"\"\n",
    "    return phi * rng.randn(n_samples) + theta"
   ]
  },
  {
   "cell_type": "code",
   "execution_count": 31,
   "metadata": {
    "collapsed": true
   },
   "outputs": [],
   "source": [
    "def log_likelihood(X, theta, phi):\n",
    "    \"\"\"\n",
    "    Gives likelihood of P(X )\n",
    "    \"\"\"\n",
    "    samples = black_box(10**6, theta, phi)\n",
    "    n, bins, _ = plt.hist(samples, 100, normed = True)\n",
    "    bin_indices = np.searchsorted(bins, X) - 1\n",
    "\n",
    "    # Clip values outside the interval.\n",
    "    bin_indices[bin_indices == -1] = 0\n",
    "    bin_indices[bin_indices == len(n)] = len(n) - 1\n",
    "    n_counts = n[bin_indices]\n",
    "    #P_X_given_theta = n_counts / np.sum(n_counts)\n",
    "    #print P_X_given_theta\n",
    "    P_X_given_theta = n_counts\n",
    "    print np.sum(np.log(P_X_given_theta))\n",
    "    #plt.show()\n",
    "    return np.sum(np.log(P_X_given_theta))"
   ]
  },
  {
   "cell_type": "code",
   "execution_count": 32,
   "metadata": {
    "collapsed": false
   },
   "outputs": [],
   "source": [
    "thetas = np.linspace(0.5, 1.5, 100)"
   ]
  },
  {
   "cell_type": "code",
   "execution_count": 33,
   "metadata": {
    "collapsed": false
   },
   "outputs": [
    {
     "data": {
      "text/plain": [
       "100"
      ]
     },
     "execution_count": 33,
     "metadata": {},
     "output_type": "execute_result"
    }
   ],
   "source": [
    "len(thetas)"
   ]
  },
  {
   "cell_type": "code",
   "execution_count": null,
   "metadata": {
    "collapsed": true
   },
   "outputs": [],
   "source": []
  },
  {
   "cell_type": "code",
   "execution_count": null,
   "metadata": {
    "collapsed": true
   },
   "outputs": [],
   "source": []
  },
  {
   "cell_type": "code",
   "execution_count": 34,
   "metadata": {
    "collapsed": true
   },
   "outputs": [],
   "source": [
    "def compute_posterior(thetas, phi, X, prior):\n",
    "    \"\"\"\n",
    "    Compute P(theta | phi, X)\n",
    "    \"\"\"\n",
    "    log_posterior = []\n",
    "    log_likeAll = []\n",
    "    \n",
    "    for i in range(len(thetas)):\n",
    "        # Find log(\\prod_{i=1}^n P(X_i | t, phi)\n",
    "        log_like = log_likelihood(X, thetas[i], phi)\n",
    "        #print log_like\n",
    "        #exit()\n",
    "        log_prior = np.log(prior[i])\n",
    "        log_posterior.append(log_like + log_prior)\n",
    "        log_likeAll.append(log_like)\n",
    "    \n",
    "    plt.plot(log_likeAll)\n",
    "    plt.show()\n",
    "    posterior = np.array(np.exp(log_posterior))\n",
    "    normalize = np.sum(posterior)\n",
    "\n",
    "    return posterior / normalize"
   ]
  },
  {
   "cell_type": "code",
   "execution_count": 35,
   "metadata": {
    "collapsed": false
   },
   "outputs": [
    {
     "name": "stdout",
     "output_type": "stream",
     "text": [
      "-1234.27944787\n",
      "-1213.24873627\n",
      "-1194.31229989\n",
      "-1175.48130677\n",
      "-1156.35441744\n",
      "-1137.95366748\n",
      "-1120.55848731\n",
      "-1102.50679501\n",
      "-1082.69893432\n",
      "-1068.14358875\n",
      "-1047.38126887\n",
      "-1037.19184811\n",
      "-1022.41709978\n",
      "-1006.65499626\n",
      "-989.774794011\n",
      "-979.401681693\n",
      "-964.382817091\n",
      "-949.112783009\n",
      "-936.485802914\n",
      "-923.888161111\n",
      "-908.877000273\n",
      "-901.168111628\n",
      "-886.679057742\n",
      "-877.288903014\n",
      "-864.669027377\n",
      "-854.592274244\n",
      "-846.198843535\n",
      "-833.778960894\n",
      "-824.411025498\n",
      "-819.322448451\n",
      "-808.453113806\n",
      "-801.530978213\n",
      "-795.92994204\n",
      "-788.341143002\n",
      "-780.47119948\n",
      "-776.63296328\n",
      "-769.648364946\n",
      "-763.817520781\n",
      "-757.373580511\n",
      "-752.653726411\n",
      "-750.657319455\n",
      "-746.448832468\n",
      "-741.622306271\n",
      "-742.23127999\n",
      "-736.307248032\n",
      "-734.834607803\n",
      "-731.297222865\n",
      "-732.783795579\n",
      "-731.005666914\n",
      "-731.905236052\n",
      "-730.278824033\n",
      "-733.163895486\n",
      "-732.392935858\n",
      "-733.822553847\n",
      "-734.018558199\n",
      "-736.540648168\n",
      "-738.987767347\n",
      "-741.65794853\n",
      "-746.377722446\n",
      "-749.964782545\n",
      "-751.982479459\n",
      "-757.769199665\n",
      "-763.569025499\n",
      "-768.702661429\n",
      "-773.401654183\n",
      "-779.183519494\n",
      "-784.693656166\n",
      "-792.755571974\n",
      "-800.906855287\n",
      "-808.277567721\n",
      "-816.150983835\n",
      "-824.022717723\n",
      "-830.512432861\n",
      "-841.76744505\n",
      "-853.71340313\n",
      "-861.906694986\n",
      "-872.203378224\n",
      "-882.690165626\n",
      "-892.688830306\n",
      "-907.224281318\n",
      "-917.390591202\n",
      "-933.24596959\n",
      "-945.269778277\n",
      "-959.737569693\n",
      "-973.44004611\n",
      "-986.553907974\n",
      "-999.416079415\n",
      "-1016.49605823\n",
      "-1031.81862718\n",
      "-1049.06908683\n",
      "-1063.17884379\n",
      "-1078.9655735\n",
      "-1093.78995752\n",
      "-1117.0226455\n",
      "-1130.81727773\n",
      "-1152.86992324\n",
      "-1169.3451813\n",
      "-1190.80144111\n",
      "-1209.40774404\n",
      "-1228.27031388\n",
      "6.59175961828e-318\n",
      "2.78510239283e-318\n",
      "0.422512736221\n",
      "[  0.00000000e+00   0.00000000e+00   0.00000000e+00   0.00000000e+00\n",
      "   0.00000000e+00   0.00000000e+00   0.00000000e+00   0.00000000e+00\n",
      "   0.00000000e+00   0.00000000e+00   0.00000000e+00   0.00000000e+00\n",
      "   0.00000000e+00   0.00000000e+00   0.00000000e+00   0.00000000e+00\n",
      "   0.00000000e+00   0.00000000e+00   0.00000000e+00   0.00000000e+00\n",
      "   0.00000000e+00   0.00000000e+00   0.00000000e+00   0.00000000e+00\n",
      "   0.00000000e+00   0.00000000e+00   0.00000000e+00   0.00000000e+00\n",
      "   0.00000000e+00   0.00000000e+00   0.00000000e+00   0.00000000e+00\n",
      "   0.00000000e+00   0.00000000e+00   0.00000000e+00   0.00000000e+00\n",
      "   0.00000000e+00   0.00000000e+00   0.00000000e+00   0.00000000e+00\n",
      "   0.00000000e+00   0.00000000e+00   5.24664084e-06   2.99808048e-06\n",
      "   1.01634928e-03   4.43416103e-03   1.52506358e-01   3.44996616e-02\n",
      "   2.04235238e-01   8.30805577e-02   4.22512736e-01   2.35948934e-02\n",
      "   5.09988480e-02   1.22051856e-02   1.00285792e-02   8.04984609e-04\n",
      "   6.97053711e-05   4.49712072e-06   0.00000000e+00   0.00000000e+00\n",
      "   0.00000000e+00   0.00000000e+00   0.00000000e+00   0.00000000e+00\n",
      "   0.00000000e+00   0.00000000e+00   0.00000000e+00   0.00000000e+00\n",
      "   0.00000000e+00   0.00000000e+00   0.00000000e+00   0.00000000e+00\n",
      "   0.00000000e+00   0.00000000e+00   0.00000000e+00   0.00000000e+00\n",
      "   0.00000000e+00   0.00000000e+00   0.00000000e+00   0.00000000e+00\n",
      "   0.00000000e+00   0.00000000e+00   0.00000000e+00   0.00000000e+00\n",
      "   0.00000000e+00   0.00000000e+00   0.00000000e+00   0.00000000e+00\n",
      "   0.00000000e+00   0.00000000e+00   0.00000000e+00   0.00000000e+00\n",
      "   0.00000000e+00   0.00000000e+00   0.00000000e+00   0.00000000e+00\n",
      "   0.00000000e+00   0.00000000e+00   0.00000000e+00   0.00000000e+00]\n"
     ]
    },
    {
     "data": {
      "image/png": "[encoded data removed]",
      "text/plain": [
       "<matplotlib.figure.Figure at 0x10a739e50>"
      ]
     },
     "metadata": {},
     "output_type": "display_data"
    }
   ],
   "source": [
    "phi = 0.5\n",
    "thetas = np.linspace(0.5, 1.5, 100)\n",
    "real_data =  black_box(1000, 1.0, phi, 0)\n",
    "prior = [norm.pdf(theta, 1.0, 1.0) for theta in thetas]\n",
    "\n",
    "toy_posterior = compute_posterior(thetas, phi, real_data, prior)\n",
    "print toy_posterior"
   ]
  },
  {
   "cell_type": "code",
   "execution_count": null,
   "metadata": {
    "collapsed": false
   },
   "outputs": [],
   "source": []
  },
  {
   "cell_type": "code",
   "execution_count": null,
   "metadata": {
    "collapsed": true
   },
   "outputs": [],
   "source": []
  },
  {
   "cell_type": "code",
   "execution_count": null,
   "metadata": {
    "collapsed": false
   },
   "outputs": [],
   "source": [
    "thetas = np.linspace(0.5, 1.5, 100)\n",
    "plt.plot(thetas,toy_posterior)\n",
    "plt.xlim(-1, 1.5)\n",
    "plt.ylim(0.,0.5 )\n",
    "plt.show()"
   ]
  },
  {
   "cell_type": "code",
   "execution_count": null,
   "metadata": {
    "collapsed": true
   },
   "outputs": [],
   "source": []
  },
  {
   "cell_type": "code",
   "execution_count": null,
   "metadata": {
    "collapsed": true
   },
   "outputs": [],
   "source": []
  },
  {
   "cell_type": "code",
   "execution_count": null,
   "metadata": {
    "collapsed": true
   },
   "outputs": [],
   "source": [
    "def optimize_phi(posterior, thetas):\n",
    "    # entropy of posterior\n",
    "    best_entropy = np.sum(posterior * np.log(posterior))\n",
    "    #print \"best_entropy: \"+best_entropy\n",
    "\n",
    "    phis = np.linspace(0.5, 1.5, 20)\n",
    "    mean_inf_gains = []\n",
    "    best_phys = [] \n",
    "    N_toys = 10\n",
    "    for phi in phis:\n",
    "        inf_gain = []\n",
    "\n",
    "        for i in range(N_toys):\n",
    "            print \"optimize_phi \" + str(i)\n",
    "            theta_best = np.argmax(posterior)\n",
    "            toy_data = black_box(1000, theta_best, phi, i)\n",
    "            posterior = compute_posterior(thetas, phi, toy_data, posterior)\n",
    "            curr_entropy = np.sum(posterior * np.log(posterior))\n",
    "            inf_gain.append(best_entropy - curr_entropy)\n",
    "            best_phys.append(phis[np.argmax(inf_gain)])\n",
    "        inf_gains.append(np.mean(inf_gain))\n",
    "    return phis[np.argmax(inf_gains)]\n"
   ]
  },
  {
   "cell_type": "code",
   "execution_count": null,
   "metadata": {
    "collapsed": false
   },
   "outputs": [],
   "source": [
    "def do_real_experiments():\n",
    "    # generate a set of plausible thetas\n",
    "    phi = 0.5\n",
    "    thetas = np.linspace(0.5, 1.5, 100)\n",
    "    real_data =  black_box(1000, 1.0, phi, 0)\n",
    "    # Prior:\n",
    "    # Assume P(theta | phi) is a gaussian with mean 1.0\n",
    "    # and std phi\n",
    "    prior = [norm.pdf(theta, 1.0, 1.0) for theta in thetas]\n",
    "    toy_posterior = compute_posterior(thetas, phi, real_data, prior)\n",
    "    print \"toy_posterior generated\"\n",
    "    print toy_posterior.tolist()\n",
    "\n",
    "    #best_phi = optimize_phi(toy_posterior, thetas)\n",
    "    return toy_posterior.tolist()\n"
   ]
  },
  {
   "cell_type": "code",
   "execution_count": null,
   "metadata": {
    "collapsed": false
   },
   "outputs": [],
   "source": [
    "posterior = do_real_experiments()\n"
   ]
  },
  {
   "cell_type": "code",
   "execution_count": null,
   "metadata": {
    "collapsed": false
   },
   "outputs": [],
   "source": [
    "thetas = np.linspace(0.5, 1.5, 100)\n",
    "plt.plot(thetas,posterior)\n",
    "plt.xlim(-1, 1.5)\n",
    "plt.ylim(0.,0.5 )\n",
    "plt.show()"
   ]
  },
  {
   "cell_type": "code",
   "execution_count": null,
   "metadata": {
    "collapsed": true
   },
   "outputs": [],
   "source": [
    "prior = [norm.pdf(theta, 1.0, 1.0) for theta in thetas]"
   ]
  },
  {
   "cell_type": "code",
   "execution_count": null,
   "metadata": {
    "collapsed": false
   },
   "outputs": [],
   "source": [
    "plt.plot(thetas,prior)\n",
    "#plt.xlim(-1, 1.5)\n",
    "#plt.ylim(0.,0.5 )\n",
    "plt.show()"
   ]
  },
  {
   "cell_type": "code",
   "execution_count": null,
   "metadata": {
    "collapsed": true
   },
   "outputs": [],
   "source": []
  }
 ],
 "metadata": {
  "kernelspec": {
   "display_name": "Python 2",
   "language": "python",
   "name": "python2"
  },
  "language_info": {
   "codemirror_mode": {
    "name": "ipython",
    "version": 2
   },
   "file_extension": ".py",
   "mimetype": "text/x-python",
   "name": "python",
   "nbconvert_exporter": "python",
   "pygments_lexer": "ipython2",
   "version": "2.7.10"
  }
 },
 "nbformat": 4,
 "nbformat_minor": 0
}
